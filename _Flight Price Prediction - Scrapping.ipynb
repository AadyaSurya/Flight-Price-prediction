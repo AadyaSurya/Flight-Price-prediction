{
 "cells": [
  {
   "cell_type": "code",
   "execution_count": 5,
   "id": "02a5a01e",
   "metadata": {},
   "outputs": [
    {
     "name": "stdout",
     "output_type": "stream",
     "text": [
      "Requirement already satisfied: selenium in c:\\users\\saranya\\anaconda3\\lib\\site-packages (4.4.3)\n",
      "Requirement already satisfied: certifi>=2021.10.8 in c:\\users\\saranya\\anaconda3\\lib\\site-packages (from selenium) (2022.9.24)\n",
      "Requirement already satisfied: trio~=0.17 in c:\\users\\saranya\\anaconda3\\lib\\site-packages (from selenium) (0.21.0)\n",
      "Requirement already satisfied: trio-websocket~=0.9 in c:\\users\\saranya\\anaconda3\\lib\\site-packages (from selenium) (0.9.2)\n",
      "Requirement already satisfied: urllib3[socks]~=1.26 in c:\\users\\saranya\\anaconda3\\lib\\site-packages (from selenium) (1.26.7)\n",
      "Requirement already satisfied: attrs>=19.2.0 in c:\\users\\saranya\\anaconda3\\lib\\site-packages (from trio~=0.17->selenium) (21.2.0)\n",
      "Requirement already satisfied: sniffio in c:\\users\\saranya\\anaconda3\\lib\\site-packages (from trio~=0.17->selenium) (1.2.0)\n",
      "Requirement already satisfied: idna in c:\\users\\saranya\\anaconda3\\lib\\site-packages (from trio~=0.17->selenium) (3.2)\n",
      "Requirement already satisfied: cffi>=1.14 in c:\\users\\saranya\\anaconda3\\lib\\site-packages (from trio~=0.17->selenium) (1.14.6)\n",
      "Requirement already satisfied: sortedcontainers in c:\\users\\saranya\\anaconda3\\lib\\site-packages (from trio~=0.17->selenium) (2.4.0)\n",
      "Requirement already satisfied: outcome in c:\\users\\saranya\\anaconda3\\lib\\site-packages (from trio~=0.17->selenium) (1.2.0)\n",
      "Requirement already satisfied: async-generator>=1.9 in c:\\users\\saranya\\anaconda3\\lib\\site-packages (from trio~=0.17->selenium) (1.10)\n",
      "Requirement already satisfied: pycparser in c:\\users\\saranya\\anaconda3\\lib\\site-packages (from cffi>=1.14->trio~=0.17->selenium) (2.20)\n",
      "Requirement already satisfied: wsproto>=0.14 in c:\\users\\saranya\\anaconda3\\lib\\site-packages (from trio-websocket~=0.9->selenium) (1.2.0)\n",
      "Requirement already satisfied: PySocks!=1.5.7,<2.0,>=1.5.6 in c:\\users\\saranya\\anaconda3\\lib\\site-packages (from urllib3[socks]~=1.26->selenium) (1.7.1)\n",
      "Requirement already satisfied: h11<1,>=0.9.0 in c:\\users\\saranya\\anaconda3\\lib\\site-packages (from wsproto>=0.14->trio-websocket~=0.9->selenium) (0.13.0)\n"
     ]
    },
    {
     "name": "stderr",
     "output_type": "stream",
     "text": [
      "WARNING: Ignoring invalid distribution -hromedriver-binary-auto (c:\\users\\saranya\\anaconda3\\lib\\site-packages)\n",
      "WARNING: Ignoring invalid distribution - (c:\\users\\saranya\\anaconda3\\lib\\site-packages)\n",
      "WARNING: Ignoring invalid distribution -hromedriver-binary-auto (c:\\users\\saranya\\anaconda3\\lib\\site-packages)\n",
      "WARNING: Ignoring invalid distribution - (c:\\users\\saranya\\anaconda3\\lib\\site-packages)\n",
      "WARNING: Ignoring invalid distribution -hromedriver-binary-auto (c:\\users\\saranya\\anaconda3\\lib\\site-packages)\n",
      "WARNING: Ignoring invalid distribution - (c:\\users\\saranya\\anaconda3\\lib\\site-packages)\n",
      "WARNING: Ignoring invalid distribution -hromedriver-binary-auto (c:\\users\\saranya\\anaconda3\\lib\\site-packages)\n",
      "WARNING: Ignoring invalid distribution - (c:\\users\\saranya\\anaconda3\\lib\\site-packages)\n",
      "WARNING: Ignoring invalid distribution -hromedriver-binary-auto (c:\\users\\saranya\\anaconda3\\lib\\site-packages)\n",
      "WARNING: Ignoring invalid distribution - (c:\\users\\saranya\\anaconda3\\lib\\site-packages)\n",
      "WARNING: Ignoring invalid distribution -hromedriver-binary-auto (c:\\users\\saranya\\anaconda3\\lib\\site-packages)\n",
      "WARNING: Ignoring invalid distribution - (c:\\users\\saranya\\anaconda3\\lib\\site-packages)\n"
     ]
    }
   ],
   "source": [
    "! pip3 install selenium"
   ]
  },
  {
   "cell_type": "code",
   "execution_count": 8,
   "id": "ab098784",
   "metadata": {},
   "outputs": [],
   "source": [
    "# importing all required library\n",
    "import pandas as pd\n",
    "import selenium\n",
    "from selenium import webdriver\n",
    "from selenium.webdriver.support.ui import WebDriverWait \n",
    "from selenium.webdriver.support import expected_conditions\n",
    "from bs4 import BeautifulSoup\n",
    "import re\n",
    "import pandas as pd\n",
    "import numpy as np\n",
    "import time"
   ]
  },
  {
   "cell_type": "code",
   "execution_count": 10,
   "id": "01d12c49",
   "metadata": {},
   "outputs": [
    {
     "name": "stderr",
     "output_type": "stream",
     "text": [
      "C:\\Users\\Saranya\\AppData\\Local\\Temp/ipykernel_9572/1232775734.py:1: DeprecationWarning: executable_path has been deprecated, please pass in a Service object\n",
      "  driver=webdriver.Chrome(\"chromedriver.exe\")\n"
     ]
    },
    {
     "ename": "WebDriverException",
     "evalue": "Message: 'chromedriver.exe' executable needs to be in PATH. Please see https://chromedriver.chromium.org/home\n",
     "output_type": "error",
     "traceback": [
      "\u001b[1;31m---------------------------------------------------------------------------\u001b[0m",
      "\u001b[1;31mFileNotFoundError\u001b[0m                         Traceback (most recent call last)",
      "\u001b[1;32m~\\anaconda3\\lib\\site-packages\\selenium\\webdriver\\common\\service.py\u001b[0m in \u001b[0;36mstart\u001b[1;34m(self)\u001b[0m\n\u001b[0;32m     70\u001b[0m             \u001b[0mcmd\u001b[0m\u001b[1;33m.\u001b[0m\u001b[0mextend\u001b[0m\u001b[1;33m(\u001b[0m\u001b[0mself\u001b[0m\u001b[1;33m.\u001b[0m\u001b[0mcommand_line_args\u001b[0m\u001b[1;33m(\u001b[0m\u001b[1;33m)\u001b[0m\u001b[1;33m)\u001b[0m\u001b[1;33m\u001b[0m\u001b[1;33m\u001b[0m\u001b[0m\n\u001b[1;32m---> 71\u001b[1;33m             self.process = subprocess.Popen(cmd, env=self.env,\n\u001b[0m\u001b[0;32m     72\u001b[0m                                             \u001b[0mclose_fds\u001b[0m\u001b[1;33m=\u001b[0m\u001b[0msystem\u001b[0m\u001b[1;33m(\u001b[0m\u001b[1;33m)\u001b[0m \u001b[1;33m!=\u001b[0m \u001b[1;34m'Windows'\u001b[0m\u001b[1;33m,\u001b[0m\u001b[1;33m\u001b[0m\u001b[1;33m\u001b[0m\u001b[0m\n",
      "\u001b[1;32m~\\anaconda3\\lib\\subprocess.py\u001b[0m in \u001b[0;36m__init__\u001b[1;34m(self, args, bufsize, executable, stdin, stdout, stderr, preexec_fn, close_fds, shell, cwd, env, universal_newlines, startupinfo, creationflags, restore_signals, start_new_session, pass_fds, user, group, extra_groups, encoding, errors, text, umask)\u001b[0m\n\u001b[0;32m    950\u001b[0m \u001b[1;33m\u001b[0m\u001b[0m\n\u001b[1;32m--> 951\u001b[1;33m             self._execute_child(args, executable, preexec_fn, close_fds,\n\u001b[0m\u001b[0;32m    952\u001b[0m                                 \u001b[0mpass_fds\u001b[0m\u001b[1;33m,\u001b[0m \u001b[0mcwd\u001b[0m\u001b[1;33m,\u001b[0m \u001b[0menv\u001b[0m\u001b[1;33m,\u001b[0m\u001b[1;33m\u001b[0m\u001b[1;33m\u001b[0m\u001b[0m\n",
      "\u001b[1;32m~\\anaconda3\\lib\\subprocess.py\u001b[0m in \u001b[0;36m_execute_child\u001b[1;34m(self, args, executable, preexec_fn, close_fds, pass_fds, cwd, env, startupinfo, creationflags, shell, p2cread, p2cwrite, c2pread, c2pwrite, errread, errwrite, unused_restore_signals, unused_gid, unused_gids, unused_uid, unused_umask, unused_start_new_session)\u001b[0m\n\u001b[0;32m   1419\u001b[0m             \u001b[1;32mtry\u001b[0m\u001b[1;33m:\u001b[0m\u001b[1;33m\u001b[0m\u001b[1;33m\u001b[0m\u001b[0m\n\u001b[1;32m-> 1420\u001b[1;33m                 hp, ht, pid, tid = _winapi.CreateProcess(executable, args,\n\u001b[0m\u001b[0;32m   1421\u001b[0m                                          \u001b[1;31m# no special security\u001b[0m\u001b[1;33m\u001b[0m\u001b[1;33m\u001b[0m\u001b[0m\n",
      "\u001b[1;31mFileNotFoundError\u001b[0m: [WinError 2] The system cannot find the file specified",
      "\nDuring handling of the above exception, another exception occurred:\n",
      "\u001b[1;31mWebDriverException\u001b[0m                        Traceback (most recent call last)",
      "\u001b[1;32m~\\AppData\\Local\\Temp/ipykernel_9572/1232775734.py\u001b[0m in \u001b[0;36m<module>\u001b[1;34m\u001b[0m\n\u001b[1;32m----> 1\u001b[1;33m \u001b[0mdriver\u001b[0m\u001b[1;33m=\u001b[0m\u001b[0mwebdriver\u001b[0m\u001b[1;33m.\u001b[0m\u001b[0mChrome\u001b[0m\u001b[1;33m(\u001b[0m\u001b[1;34m\"chromedriver.exe\"\u001b[0m\u001b[1;33m)\u001b[0m\u001b[1;33m\u001b[0m\u001b[1;33m\u001b[0m\u001b[0m\n\u001b[0m",
      "\u001b[1;32m~\\anaconda3\\lib\\site-packages\\selenium\\webdriver\\chrome\\webdriver.py\u001b[0m in \u001b[0;36m__init__\u001b[1;34m(self, executable_path, port, options, service_args, desired_capabilities, service_log_path, chrome_options, service, keep_alive)\u001b[0m\n\u001b[0;32m     67\u001b[0m             \u001b[0mservice\u001b[0m \u001b[1;33m=\u001b[0m \u001b[0mService\u001b[0m\u001b[1;33m(\u001b[0m\u001b[0mexecutable_path\u001b[0m\u001b[1;33m,\u001b[0m \u001b[0mport\u001b[0m\u001b[1;33m,\u001b[0m \u001b[0mservice_args\u001b[0m\u001b[1;33m,\u001b[0m \u001b[0mservice_log_path\u001b[0m\u001b[1;33m)\u001b[0m\u001b[1;33m\u001b[0m\u001b[1;33m\u001b[0m\u001b[0m\n\u001b[0;32m     68\u001b[0m \u001b[1;33m\u001b[0m\u001b[0m\n\u001b[1;32m---> 69\u001b[1;33m         super().__init__(DesiredCapabilities.CHROME['browserName'], \"goog\",\n\u001b[0m\u001b[0;32m     70\u001b[0m                          \u001b[0mport\u001b[0m\u001b[1;33m,\u001b[0m \u001b[0moptions\u001b[0m\u001b[1;33m,\u001b[0m\u001b[1;33m\u001b[0m\u001b[1;33m\u001b[0m\u001b[0m\n\u001b[0;32m     71\u001b[0m                          \u001b[0mservice_args\u001b[0m\u001b[1;33m,\u001b[0m \u001b[0mdesired_capabilities\u001b[0m\u001b[1;33m,\u001b[0m\u001b[1;33m\u001b[0m\u001b[1;33m\u001b[0m\u001b[0m\n",
      "\u001b[1;32m~\\anaconda3\\lib\\site-packages\\selenium\\webdriver\\chromium\\webdriver.py\u001b[0m in \u001b[0;36m__init__\u001b[1;34m(self, browser_name, vendor_prefix, port, options, service_args, desired_capabilities, service_log_path, service, keep_alive)\u001b[0m\n\u001b[0;32m     87\u001b[0m \u001b[1;33m\u001b[0m\u001b[0m\n\u001b[0;32m     88\u001b[0m         \u001b[0mself\u001b[0m\u001b[1;33m.\u001b[0m\u001b[0mservice\u001b[0m \u001b[1;33m=\u001b[0m \u001b[0mservice\u001b[0m\u001b[1;33m\u001b[0m\u001b[1;33m\u001b[0m\u001b[0m\n\u001b[1;32m---> 89\u001b[1;33m         \u001b[0mself\u001b[0m\u001b[1;33m.\u001b[0m\u001b[0mservice\u001b[0m\u001b[1;33m.\u001b[0m\u001b[0mstart\u001b[0m\u001b[1;33m(\u001b[0m\u001b[1;33m)\u001b[0m\u001b[1;33m\u001b[0m\u001b[1;33m\u001b[0m\u001b[0m\n\u001b[0m\u001b[0;32m     90\u001b[0m \u001b[1;33m\u001b[0m\u001b[0m\n\u001b[0;32m     91\u001b[0m         \u001b[1;32mtry\u001b[0m\u001b[1;33m:\u001b[0m\u001b[1;33m\u001b[0m\u001b[1;33m\u001b[0m\u001b[0m\n",
      "\u001b[1;32m~\\anaconda3\\lib\\site-packages\\selenium\\webdriver\\common\\service.py\u001b[0m in \u001b[0;36mstart\u001b[1;34m(self)\u001b[0m\n\u001b[0;32m     79\u001b[0m         \u001b[1;32mexcept\u001b[0m \u001b[0mOSError\u001b[0m \u001b[1;32mas\u001b[0m \u001b[0merr\u001b[0m\u001b[1;33m:\u001b[0m\u001b[1;33m\u001b[0m\u001b[1;33m\u001b[0m\u001b[0m\n\u001b[0;32m     80\u001b[0m             \u001b[1;32mif\u001b[0m \u001b[0merr\u001b[0m\u001b[1;33m.\u001b[0m\u001b[0merrno\u001b[0m \u001b[1;33m==\u001b[0m \u001b[0merrno\u001b[0m\u001b[1;33m.\u001b[0m\u001b[0mENOENT\u001b[0m\u001b[1;33m:\u001b[0m\u001b[1;33m\u001b[0m\u001b[1;33m\u001b[0m\u001b[0m\n\u001b[1;32m---> 81\u001b[1;33m                 raise WebDriverException(\n\u001b[0m\u001b[0;32m     82\u001b[0m                     \"'{}' executable needs to be in PATH. {}\".format(\n\u001b[0;32m     83\u001b[0m                         os.path.basename(self.path), self.start_error_message)\n",
      "\u001b[1;31mWebDriverException\u001b[0m: Message: 'chromedriver.exe' executable needs to be in PATH. Please see https://chromedriver.chromium.org/home\n"
     ]
    }
   ],
   "source": [
    "driver=webdriver.Chrome(\"chromedriver.exe\") "
   ]
  },
  {
   "cell_type": "code",
   "execution_count": null,
   "id": "3d0278e8",
   "metadata": {},
   "outputs": [],
   "source": [
    "driver.get('https://www.yatra.com/')\n",
    "time.sleep(3)"
   ]
  },
  {
   "cell_type": "code",
   "execution_count": 132,
   "id": "76377a30",
   "metadata": {},
   "outputs": [],
   "source": [
    "from selenium.webdriver.common.by import By"
   ]
  },
  {
   "cell_type": "code",
   "execution_count": 133,
   "id": "65045f6e",
   "metadata": {},
   "outputs": [],
   "source": [
    "from_place =driver.find_element(By.XPATH, \"//label[@for='BE_flight_origin_city']\")\n",
    "from_place.send_keys(\"mumbai\")\n",
    "wrapper1 =driver.find_element(By.XPATH,\"//div[@id='BE_flight_form_wrapper']\")\n",
    "wrapper1.click()\n",
    "time.sleep(2)\n",
    "\n",
    "\n",
    "to_place =driver.find_element(By.XPATH,\"//label[@for='BE_flight_arrival_city']\")\n",
    "to_place.send_keys(\"Bangalore\")\n",
    "wrapper =driver.find_element(By.XPATH,\"//div[@id='BE_flight_form_wrapper']\")\n",
    "wrapper.click()\n",
    "\n",
    "flight_date =driver.find_element(By.XPATH,\"//label[@for='BE_flight_origin_date']\")\n",
    "flight_date.click()"
   ]
  },
  {
   "cell_type": "code",
   "execution_count": 134,
   "id": "51b0adf7",
   "metadata": {},
   "outputs": [],
   "source": [
    "import warnings"
   ]
  },
  {
   "cell_type": "code",
   "execution_count": 135,
   "id": "f78925f1",
   "metadata": {},
   "outputs": [
    {
     "ename": "InvalidSelectorException",
     "evalue": "Message: invalid selector: Unable to locate an element with the xpath expression //input[@id='BE_flight_flsearch_btn')] because of the following error:\nSyntaxError: Failed to execute 'evaluate' on 'Document': The string '//input[@id='BE_flight_flsearch_btn')]' is not a valid XPath expression.\n  (Session info: chrome=109.0.5414.75)\nStacktrace:\nBacktrace:\n\t(No symbol) [0x00DC6643]\n\t(No symbol) [0x00D5BE21]\n\t(No symbol) [0x00C5DA9D]\n\t(No symbol) [0x00C609E4]\n\t(No symbol) [0x00C608AD]\n\t(No symbol) [0x00C60B30]\n\t(No symbol) [0x00C90FAC]\n\t(No symbol) [0x00C9147B]\n\t(No symbol) [0x00CC8DC2]\n\t(No symbol) [0x00CAFDC4]\n\t(No symbol) [0x00CC6B09]\n\t(No symbol) [0x00CAFB76]\n\t(No symbol) [0x00C849C1]\n\t(No symbol) [0x00C85E5D]\n\tGetHandleVerifier [0x0103A142+2497106]\n\tGetHandleVerifier [0x010685D3+2686691]\n\tGetHandleVerifier [0x0106BB9C+2700460]\n\tGetHandleVerifier [0x00E73B10+635936]\n\t(No symbol) [0x00D64A1F]\n\t(No symbol) [0x00D6A418]\n\t(No symbol) [0x00D6A505]\n\t(No symbol) [0x00D7508B]\n\tBaseThreadInitThunk [0x774E00F9+25]\n\tRtlGetAppContainerNamedObjectPath [0x77D67BBE+286]\n\tRtlGetAppContainerNamedObjectPath [0x77D67B8E+238]\n",
     "output_type": "error",
     "traceback": [
      "\u001b[1;31m---------------------------------------------------------------------------\u001b[0m",
      "\u001b[1;31mInvalidSelectorException\u001b[0m                  Traceback (most recent call last)",
      "\u001b[1;32m~\\AppData\\Local\\Temp/ipykernel_5516/2561381513.py\u001b[0m in \u001b[0;36m<module>\u001b[1;34m\u001b[0m\n\u001b[0;32m      5\u001b[0m \u001b[1;33m\u001b[0m\u001b[0m\n\u001b[0;32m      6\u001b[0m \u001b[1;33m\u001b[0m\u001b[0m\n\u001b[1;32m----> 7\u001b[1;33m     \u001b[0msearch\u001b[0m \u001b[1;33m=\u001b[0m\u001b[0mdriver\u001b[0m\u001b[1;33m.\u001b[0m\u001b[0mfind_element\u001b[0m\u001b[1;33m(\u001b[0m\u001b[0mBy\u001b[0m\u001b[1;33m.\u001b[0m\u001b[0mXPATH\u001b[0m\u001b[1;33m,\u001b[0m\u001b[1;34m\"//input[@id='BE_flight_flsearch_btn')]\"\u001b[0m\u001b[1;33m)\u001b[0m\u001b[1;33m\u001b[0m\u001b[1;33m\u001b[0m\u001b[0m\n\u001b[0m\u001b[0;32m      8\u001b[0m     \u001b[0msearch\u001b[0m\u001b[1;33m.\u001b[0m\u001b[0mclick\u001b[0m\u001b[1;33m(\u001b[0m\u001b[1;33m)\u001b[0m\u001b[1;33m\u001b[0m\u001b[1;33m\u001b[0m\u001b[0m\n\u001b[0;32m      9\u001b[0m     \u001b[0mdate\u001b[0m \u001b[1;33m+=\u001b[0m\u001b[1;36m1\u001b[0m\u001b[1;33m\u001b[0m\u001b[1;33m\u001b[0m\u001b[0m\n",
      "\u001b[1;32m~\\anaconda3\\lib\\site-packages\\selenium\\webdriver\\remote\\webdriver.py\u001b[0m in \u001b[0;36mfind_element\u001b[1;34m(self, by, value)\u001b[0m\n\u001b[0;32m    853\u001b[0m             \u001b[0mvalue\u001b[0m \u001b[1;33m=\u001b[0m \u001b[1;34m'[name=\"%s\"]'\u001b[0m \u001b[1;33m%\u001b[0m \u001b[0mvalue\u001b[0m\u001b[1;33m\u001b[0m\u001b[1;33m\u001b[0m\u001b[0m\n\u001b[0;32m    854\u001b[0m \u001b[1;33m\u001b[0m\u001b[0m\n\u001b[1;32m--> 855\u001b[1;33m         return self.execute(Command.FIND_ELEMENT, {\n\u001b[0m\u001b[0;32m    856\u001b[0m             \u001b[1;34m'using'\u001b[0m\u001b[1;33m:\u001b[0m \u001b[0mby\u001b[0m\u001b[1;33m,\u001b[0m\u001b[1;33m\u001b[0m\u001b[1;33m\u001b[0m\u001b[0m\n\u001b[0;32m    857\u001b[0m             'value': value})['value']\n",
      "\u001b[1;32m~\\anaconda3\\lib\\site-packages\\selenium\\webdriver\\remote\\webdriver.py\u001b[0m in \u001b[0;36mexecute\u001b[1;34m(self, driver_command, params)\u001b[0m\n\u001b[0;32m    426\u001b[0m         \u001b[0mresponse\u001b[0m \u001b[1;33m=\u001b[0m \u001b[0mself\u001b[0m\u001b[1;33m.\u001b[0m\u001b[0mcommand_executor\u001b[0m\u001b[1;33m.\u001b[0m\u001b[0mexecute\u001b[0m\u001b[1;33m(\u001b[0m\u001b[0mdriver_command\u001b[0m\u001b[1;33m,\u001b[0m \u001b[0mparams\u001b[0m\u001b[1;33m)\u001b[0m\u001b[1;33m\u001b[0m\u001b[1;33m\u001b[0m\u001b[0m\n\u001b[0;32m    427\u001b[0m         \u001b[1;32mif\u001b[0m \u001b[0mresponse\u001b[0m\u001b[1;33m:\u001b[0m\u001b[1;33m\u001b[0m\u001b[1;33m\u001b[0m\u001b[0m\n\u001b[1;32m--> 428\u001b[1;33m             \u001b[0mself\u001b[0m\u001b[1;33m.\u001b[0m\u001b[0merror_handler\u001b[0m\u001b[1;33m.\u001b[0m\u001b[0mcheck_response\u001b[0m\u001b[1;33m(\u001b[0m\u001b[0mresponse\u001b[0m\u001b[1;33m)\u001b[0m\u001b[1;33m\u001b[0m\u001b[1;33m\u001b[0m\u001b[0m\n\u001b[0m\u001b[0;32m    429\u001b[0m             response['value'] = self._unwrap_value(\n\u001b[0;32m    430\u001b[0m                 response.get('value', None))\n",
      "\u001b[1;32m~\\anaconda3\\lib\\site-packages\\selenium\\webdriver\\remote\\errorhandler.py\u001b[0m in \u001b[0;36mcheck_response\u001b[1;34m(self, response)\u001b[0m\n\u001b[0;32m    241\u001b[0m                 \u001b[0malert_text\u001b[0m \u001b[1;33m=\u001b[0m \u001b[0mvalue\u001b[0m\u001b[1;33m[\u001b[0m\u001b[1;34m'alert'\u001b[0m\u001b[1;33m]\u001b[0m\u001b[1;33m.\u001b[0m\u001b[0mget\u001b[0m\u001b[1;33m(\u001b[0m\u001b[1;34m'text'\u001b[0m\u001b[1;33m)\u001b[0m\u001b[1;33m\u001b[0m\u001b[1;33m\u001b[0m\u001b[0m\n\u001b[0;32m    242\u001b[0m             \u001b[1;32mraise\u001b[0m \u001b[0mexception_class\u001b[0m\u001b[1;33m(\u001b[0m\u001b[0mmessage\u001b[0m\u001b[1;33m,\u001b[0m \u001b[0mscreen\u001b[0m\u001b[1;33m,\u001b[0m \u001b[0mstacktrace\u001b[0m\u001b[1;33m,\u001b[0m \u001b[0malert_text\u001b[0m\u001b[1;33m)\u001b[0m  \u001b[1;31m# type: ignore[call-arg]  # mypy is not smart enough here\u001b[0m\u001b[1;33m\u001b[0m\u001b[1;33m\u001b[0m\u001b[0m\n\u001b[1;32m--> 243\u001b[1;33m         \u001b[1;32mraise\u001b[0m \u001b[0mexception_class\u001b[0m\u001b[1;33m(\u001b[0m\u001b[0mmessage\u001b[0m\u001b[1;33m,\u001b[0m \u001b[0mscreen\u001b[0m\u001b[1;33m,\u001b[0m \u001b[0mstacktrace\u001b[0m\u001b[1;33m)\u001b[0m\u001b[1;33m\u001b[0m\u001b[1;33m\u001b[0m\u001b[0m\n\u001b[0m",
      "\u001b[1;31mInvalidSelectorException\u001b[0m: Message: invalid selector: Unable to locate an element with the xpath expression //input[@id='BE_flight_flsearch_btn')] because of the following error:\nSyntaxError: Failed to execute 'evaluate' on 'Document': The string '//input[@id='BE_flight_flsearch_btn')]' is not a valid XPath expression.\n  (Session info: chrome=109.0.5414.75)\nStacktrace:\nBacktrace:\n\t(No symbol) [0x00DC6643]\n\t(No symbol) [0x00D5BE21]\n\t(No symbol) [0x00C5DA9D]\n\t(No symbol) [0x00C609E4]\n\t(No symbol) [0x00C608AD]\n\t(No symbol) [0x00C60B30]\n\t(No symbol) [0x00C90FAC]\n\t(No symbol) [0x00C9147B]\n\t(No symbol) [0x00CC8DC2]\n\t(No symbol) [0x00CAFDC4]\n\t(No symbol) [0x00CC6B09]\n\t(No symbol) [0x00CAFB76]\n\t(No symbol) [0x00C849C1]\n\t(No symbol) [0x00C85E5D]\n\tGetHandleVerifier [0x0103A142+2497106]\n\tGetHandleVerifier [0x010685D3+2686691]\n\tGetHandleVerifier [0x0106BB9C+2700460]\n\tGetHandleVerifier [0x00E73B10+635936]\n\t(No symbol) [0x00D64A1F]\n\t(No symbol) [0x00D6A418]\n\t(No symbol) [0x00D6A505]\n\t(No symbol) [0x00D7508B]\n\tBaseThreadInitThunk [0x774E00F9+25]\n\tRtlGetAppContainerNamedObjectPath [0x77D67BBE+286]\n\tRtlGetAppContainerNamedObjectPath [0x77D67B8E+238]\n"
     ]
    }
   ],
   "source": [
    "date =18\n",
    "for i in range(16):\n",
    "    cal_date =driver.find_element(By.XPATH,\"//td[@id='18/01/2023']\")\n",
    "    cal_date.click()\n",
    "\n",
    "    \n",
    "    search =driver.find_element(By.XPATH,\"//input[@id='BE_flight_flsearch_btn')]\")\n",
    "    search.click()\n",
    "    date +=1"
   ]
  },
  {
   "cell_type": "code",
   "execution_count": 136,
   "id": "01ebb93d",
   "metadata": {},
   "outputs": [],
   "source": [
    "#web site is blocking accessing for automated task aften "
   ]
  },
  {
   "cell_type": "code",
   "execution_count": 137,
   "id": "a84a2e4c",
   "metadata": {},
   "outputs": [],
   "source": [
    "#Used beauitful soup to scrap the data (Aonther method)"
   ]
  },
  {
   "cell_type": "code",
   "execution_count": null,
   "id": "5893daa8",
   "metadata": {},
   "outputs": [],
   "source": [
    "from selenium.webdriver.common.keys import Keys\n",
    "\n",
    "#we are scrollling and loading the whole page then we will pass it to Beautiful soup\n",
    "\n",
    "driver.get(\"https://www.google.com/search?q=%22https%3A%2F%2Fflight.yatra.com%2Fair-search-ui%2Fdom2%2Ftrigger%3FADT%3D1%26CHD%3D0%26INF%3D0%26class%3DEconomy%26destination%3DDEL%26destinationCountry%3DIN%26flexi%3D0%26flight_depart_date%3D19%252F11%252F2021%26hb%3D%26noOfSegments%3D1%26origin%3DMAA%26originCountry%3DIN%26type%3DO%26unique%3D1634561596448%26viewName%3Dnormal&rlz=1C1CHBF_enIN1040IN1040&oq=%22https%3A%2F%2Fflight.yatra.com%2Fair-search-ui%2Fdom2%2Ftrigger%3FADT%3D1%26CHD%3D0%26INF%3D0%26class%3DEconomy%26destination%3DDEL%26destinationCountry%3DIN%26flexi%3D0%26flight_depart_date%3D19%252F11%252F2021%26hb%3D%26noOfSegments%3D1%26origin%3DMAA%26originCountry%3DIN%26type%3DO%26unique%3D1634561596448%26viewName%3Dnormal&aqs=chrome..69i57.1933j0j7&sourceid=chrome&ie=UTF-8\")\n",
    "\n",
    "time.sleep(4)\n",
    "\n",
    "element = driver.find_element(By.TAG_NAME, 'body')\n",
    "\n",
    "while True:\n",
    "       \n",
    "    try:\n",
    "        element.send_keys(Keys.PAGE_DOWN)\n",
    "        time.sleep(3)\n",
    "    except: \n",
    "        break"
   ]
  },
  {
   "cell_type": "code",
   "execution_count": 127,
   "id": "d58fb5c0",
   "metadata": {},
   "outputs": [],
   "source": [
    "soup=BeautifulSoup(driver.page_source, 'lxml')\n",
    "\n",
    "arrtimes = soup.find_all('p', attrs={'autom': 'arrivalTimeLabel'})\n",
    "deptimes = soup.find_all('div', attrs={'autom': 'departureTimeLabel'})\n",
    "duration = soup.find_all('p', attrs={'autom': 'durationLabel'})\n",
    "price = soup.find_all('div', attrs={'class': 'i-b tipsy fare-summary-tooltip fs-18'})\n",
    "flight = soup.find_all('span', attrs={'class': 'i-b text ellipsis'})\n",
    "stops = soup.find_all('div', attrs={'class': 'font-lightgrey fs-10 tipsy i-b fs-10'}) \n",
    "\n",
    "\n",
    "Stops = []\n",
    "for st in stops:\n",
    "    for n in st.select('span'):\n",
    "        Stops.append(n.getText())  \n",
    "        \n",
    "    \n",
    "Fligh_Name = []\n",
    "for f in flight:\n",
    "    Fligh_Name.append(f.getText())\n",
    "    \n",
    "deptime = []\n",
    "for div in deptimes:\n",
    "    deptime.append(div.getText())\n",
    "    \n",
    "    \n",
    "arrtime = []\n",
    "for div in arrtimes:\n",
    "    arrtime.append(div.getText())   \n",
    "\n",
    "durtimes = []\n",
    "for p in duration:\n",
    "    durtimes.append(p.getText()) \n",
    "    \n",
    "Price = []\n",
    "for pr in price:\n",
    "    Price.append(pr.getText()) "
   ]
  },
  {
   "cell_type": "code",
   "execution_count": 128,
   "id": "970b260f",
   "metadata": {},
   "outputs": [],
   "source": [
    "source = soup.find_all('p', attrs={'class': 'fs-10 font-lightgrey no-wrap city ellipsis'}) \n",
    "\n",
    "Source = []\n",
    "for sr in source:\n",
    "    labels = (str(sr.text)) \n",
    "    Source.append(labels)"
   ]
  },
  {
   "cell_type": "code",
   "execution_count": 129,
   "id": "8622b872",
   "metadata": {},
   "outputs": [],
   "source": [
    "Via = soup.find_all('td', attrs={'class': 'text-left pr-5'}) \n",
    "\n",
    "Route = []\n",
    "for ro in Via:\n",
    "    if ro.getText() =='Stop':\n",
    "        pass\n",
    "    else:\n",
    "        Route.append(ro.getText() if Via else \"\")\n",
    "    \n",
    "#result = soup.find('div', class_=\"something\")\n",
    "#data['val1'].append(result.text if result else \"N/A\")"
   ]
  },
  {
   "cell_type": "code",
   "execution_count": 116,
   "id": "a31b2a18",
   "metadata": {},
   "outputs": [
    {
     "data": {
      "text/plain": [
       "0"
      ]
     },
     "execution_count": 116,
     "metadata": {},
     "output_type": "execute_result"
    }
   ],
   "source": [
    "len(Route)"
   ]
  },
  {
   "cell_type": "code",
   "execution_count": null,
   "id": "afa700b9",
   "metadata": {},
   "outputs": [],
   "source": []
  }
 ],
 "metadata": {
  "kernelspec": {
   "display_name": "Python 3 (ipykernel)",
   "language": "python",
   "name": "python3"
  },
  "language_info": {
   "codemirror_mode": {
    "name": "ipython",
    "version": 3
   },
   "file_extension": ".py",
   "mimetype": "text/x-python",
   "name": "python",
   "nbconvert_exporter": "python",
   "pygments_lexer": "ipython3",
   "version": "3.9.7"
  }
 },
 "nbformat": 4,
 "nbformat_minor": 5
}
